{
 "cells": [
  {
   "cell_type": "markdown",
   "metadata": {},
   "source": [
    "# Lanzando una moneda\n",
    "Usaremos un RNG uniforme para simular una moneda justa.\n",
    "\n",
    "Ejemplo de MonteCarlo:\n",
    "- No hay eventos\n",
    "- No tomamos en cuenta un reloj de simulación"
   ]
  },
  {
   "cell_type": "code",
   "execution_count": 2,
   "metadata": {},
   "outputs": [
    {
     "name": "stdout",
     "output_type": "stream",
     "text": [
      "0.9664535356921388\n"
     ]
    }
   ],
   "source": [
    "import random\n",
    "random.seed(1234)\n",
    "def Rnd01():\n",
    "    return random.random()\n",
    "\n",
    "print(Rnd01())"
   ]
  },
  {
   "cell_type": "code",
   "execution_count": 3,
   "metadata": {},
   "outputs": [],
   "source": [
    "import enum\n",
    "class Coin(enum.Enum):\n",
    "    HEAD = 1\n",
    "    TAIL = 2"
   ]
  },
  {
   "cell_type": "code",
   "execution_count": 4,
   "metadata": {},
   "outputs": [
    {
     "name": "stdout",
     "output_type": "stream",
     "text": [
      "[0.4407325991753527, 0.007491470058587191, 0.9109759624491242, 0.939268997363764, 0.5822275730589491, 0.6715634814879851, 0.08393822683708396, 0.7664809327917963, 0.23680977536311776, 0.030814021726609964]\n",
      "[<Coin.TAIL: 2>, <Coin.TAIL: 2>, <Coin.HEAD: 1>, <Coin.HEAD: 1>, <Coin.HEAD: 1>, <Coin.HEAD: 1>, <Coin.TAIL: 2>, <Coin.HEAD: 1>, <Coin.TAIL: 2>, <Coin.TAIL: 2>]\n"
     ]
    }
   ],
   "source": [
    "numeros = [Rnd01() for i in range(10)]\n",
    "print(numeros)\n",
    "\n",
    "moneda = [Coin.HEAD if i > 0.5 else Coin.TAIL for i in numeros]\n",
    "print(moneda)"
   ]
  },
  {
   "cell_type": "code",
   "execution_count": 5,
   "metadata": {},
   "outputs": [
    {
     "name": "stdout",
     "output_type": "stream",
     "text": [
      "    Rnd01()  Resultado\n",
      "0  0.440733  Coin.TAIL\n",
      "1  0.007491  Coin.TAIL\n",
      "2  0.910976  Coin.HEAD\n",
      "3  0.939269  Coin.HEAD\n",
      "4  0.582228  Coin.HEAD\n",
      "5  0.671563  Coin.HEAD\n",
      "6  0.083938  Coin.TAIL\n",
      "7  0.766481  Coin.HEAD\n",
      "8  0.236810  Coin.TAIL\n",
      "9  0.030814  Coin.TAIL\n"
     ]
    }
   ],
   "source": [
    "import pandas as pd\n",
    "df = pd.DataFrame({\"Rnd01()\": numeros, \"Resultado\": moneda})\n",
    "print(df)"
   ]
  }
 ],
 "metadata": {
  "kernelspec": {
   "display_name": "Python 3.9.5 64-bit",
   "language": "python",
   "name": "python3"
  },
  "language_info": {
   "codemirror_mode": {
    "name": "ipython",
    "version": 3
   },
   "file_extension": ".py",
   "mimetype": "text/x-python",
   "name": "python",
   "nbconvert_exporter": "python",
   "pygments_lexer": "ipython3",
   "version": "3.9.5"
  },
  "orig_nbformat": 4,
  "vscode": {
   "interpreter": {
    "hash": "abda343d31edc18ef9cd745fb9d8fec11ceb3b3de4df0354c424e97df0c635f1"
   }
  }
 },
 "nbformat": 4,
 "nbformat_minor": 2
}
