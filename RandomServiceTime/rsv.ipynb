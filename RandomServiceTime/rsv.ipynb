{
 "cells": [
  {
   "cell_type": "markdown",
   "metadata": {},
   "source": [
    "# Simular un tiempo de servicio aleatorio\n",
    "Utilizaremos una distribución discreta arbitraria para generar muestras aleatorias.\n",
    "\n",
    "Transformar un numero aleatorio a un tiempo de servicio descrito con una probabilidad.\n",
    "\n",
    "Un servicio autmatizado telefonico informativo tarda 3, 6 o 10 minutos por cada llamada. La proporcion de estos tiempoes es de 30%, 45% y 25% respectivamente.\n",
    "\n",
    "Ejemplo de Monte Carlo?\n",
    "\n",
    "![Random dart](randomDart.jpg)"
   ]
  },
  {
   "cell_type": "code",
   "execution_count": 1,
   "metadata": {},
   "outputs": [],
   "source": [
    "def getCumulative(probabilities):\n",
    "    cumulative = []\n",
    "    cumulative.append(probabilities[0])\n",
    "    for i in range(1, len(probabilities)):\n",
    "        cumulative.append(cumulative[i-1] + probabilities[i])\n",
    "    return cumulative"
   ]
  },
  {
   "cell_type": "code",
   "execution_count": 2,
   "metadata": {},
   "outputs": [
    {
     "name": "stdout",
     "output_type": "stream",
     "text": [
      "[0.3, 0.75, 1.0]\n"
     ]
    }
   ],
   "source": [
    "import random\n",
    "random.seed(1234)\n",
    "\n",
    "times = [3, 6, 10]\n",
    "probabilities = [0.3, 0.45, 0.25]\n",
    "\n",
    "cumulatives = getCumulative(probabilities)\n",
    "print(cumulatives)"
   ]
  },
  {
   "cell_type": "code",
   "execution_count": 3,
   "metadata": {},
   "outputs": [],
   "source": [
    "def getServiceTime(times, cumulative):\n",
    "    assert len(times) == len(cumulative)\n",
    "    r = random.random()\n",
    "    for i in range(len(cumulative)):\n",
    "        if r < cumulative[i]:\n",
    "            return times[i]\n"
   ]
  },
  {
   "cell_type": "code",
   "execution_count": 4,
   "metadata": {},
   "outputs": [
    {
     "name": "stdout",
     "output_type": "stream",
     "text": [
      "[10, 6, 3, 10, 10, 6, 6, 3, 10, 3, 3, 10, 6, 6, 6, 3, 3, 3, 3, 6, 10, 3, 6, 6, 6]\n"
     ]
    }
   ],
   "source": [
    "# Generting service times\n",
    "num_customers = 25\n",
    "\n",
    "def generateServiceTimes():\n",
    "    service_times = [getServiceTime(times, cumulatives) for _ in range(num_customers)]\n",
    "    return service_times\n",
    "\n",
    "service_times = generateServiceTimes()\n",
    "print(service_times)"
   ]
  },
  {
   "cell_type": "code",
   "execution_count": 5,
   "metadata": {},
   "outputs": [
    {
     "data": {
      "text/plain": [
       "<AxesSubplot:>"
      ]
     },
     "execution_count": 5,
     "metadata": {},
     "output_type": "execute_result"
    },
    {
     "data": {
      "image/png": "[encoded data removed]",
      "text/plain": [
       "<Figure size 432x288 with 1 Axes>"
      ]
     },
     "metadata": {
      "needs_background": "light"
     },
     "output_type": "display_data"
    }
   ],
   "source": [
    "import pandas as pd\n",
    "\n",
    "service_times = generateServiceTimes()\n",
    "frequency = pd.Series(service_times).value_counts().sort_index()\n",
    "# print(frequency)\n",
    "\n",
    "frequency.plot(kind='bar')"
   ]
  }
 ],
 "metadata": {
  "kernelspec": {
   "display_name": "Python 3.9.5 64-bit",
   "language": "python",
   "name": "python3"
  },
  "language_info": {
   "codemirror_mode": {
    "name": "ipython",
    "version": 3
   },
   "file_extension": ".py",
   "mimetype": "text/x-python",
   "name": "python",
   "nbconvert_exporter": "python",
   "pygments_lexer": "ipython3",
   "version": "3.9.5"
  },
  "orig_nbformat": 4,
  "vscode": {
   "interpreter": {
    "hash": "abda343d31edc18ef9cd745fb9d8fec11ceb3b3de4df0354c424e97df0c635f1"
   }
  }
 },
 "nbformat": 4,
 "nbformat_minor": 2
}
