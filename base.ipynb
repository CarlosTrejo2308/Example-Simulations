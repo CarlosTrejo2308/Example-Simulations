{
 "cells": [
  {
   "cell_type": "code",
   "execution_count": 11,
   "metadata": {},
   "outputs": [
    {
     "data": {
      "image/png": "[encoded data removed]",
      "text/plain": [
       "<IPython.core.display.Image object>"
      ]
     },
     "execution_count": 11,
     "metadata": {},
     "output_type": "execute_result"
    }
   ],
   "source": [
    "# Random\n",
    "import requests\n",
    "from IPython.display import Image\n",
    "\n",
    "url = \"https://imgs.xkcd.com/comics/random_number.png\"\n",
    "response = requests.get(url)\n",
    "Image(response.content)"
   ]
  },
  {
   "cell_type": "markdown",
   "metadata": {},
   "source": [
    "# Buen RNG\n",
    "1. 15 dígitos\n",
    "2. Uniformemente distribuido\n",
    "3. Estadisticamente idependiente\n",
    "4. Periodo largo\n",
    "\n",
    "```\n",
    "Almost all module functions depend on the basic function random(), which generates a random float uniformly in the semi-open range [0.0, 1.0). Python uses the Mersenne Twister as the core generator. It produces 53-bit precision floats and has a period of 2**19937-1\n",
    "```"
   ]
  },
  {
   "cell_type": "code",
   "execution_count": 20,
   "metadata": {},
   "outputs": [
    {
     "name": "stdout",
     "output_type": "stream",
     "text": [
      "[0.9664535356921388, 0.4407325991753527, 0.007491470058587191, 0.9109759624491242, 0.939268997363764, 0.5822275730589491, 0.6715634814879851, 0.08393822683708396, 0.7664809327917963, 0.23680977536311776]\n"
     ]
    }
   ],
   "source": [
    "# Random number with seed\n",
    "import random\n",
    "random.seed(1234)\n",
    "\n",
    "randoms = [random.random() for _ in range(10)]\n",
    "print(randoms)"
   ]
  },
  {
   "cell_type": "code",
   "execution_count": 26,
   "metadata": {},
   "outputs": [
    {
     "name": "stdout",
     "output_type": "stream",
     "text": [
      "1\n",
      "True\n",
      "0\n",
      "False\n",
      "0\n",
      "False\n",
      "0\n",
      "True\n",
      "1\n",
      "True\n"
     ]
    }
   ],
   "source": [
    "# Numero de 0 o 1\n",
    "random.seed(1234)\n",
    "\n",
    "for _ in range(5):\n",
    "    print(random.randint(0, 1))\n",
    "\n",
    "    if random.random() < 0.5:\n",
    "        print('True')\n",
    "    else:\n",
    "        print('False')"
   ]
  },
  {
   "cell_type": "code",
   "execution_count": null,
   "metadata": {},
   "outputs": [],
   "source": [
    "from IPython.display import YouTubeVideo\n",
    "lava_lamps = YouTubeVideo(\"1cUUfMeOijg\")\n",
    "display(lava_lamps)"
   ]
  },
  {
   "cell_type": "code",
   "execution_count": 2,
   "metadata": {},
   "outputs": [
    {
     "name": "stdout",
     "output_type": "stream",
     "text": [
      "[-1.60383681  0.06409991  0.7408913   0.15261919  0.86374389  2.91309922\n",
      " -1.47882336  0.94547297 -1.66613546  0.34374458]\n",
      "[-0.51244371  1.32375896 -0.86028019  0.5194932  -1.26514372 -2.15913901\n",
      "  0.43473395  1.73328932  0.52013416 -1.00216579]\n"
     ]
    },
    {
     "data": {
      "text/plain": [
       "<AxesSubplot:>"
      ]
     },
     "execution_count": 2,
     "metadata": {},
     "output_type": "execute_result"
    },
    {
     "data": {
      "image/png": "[encoded data removed]",
      "text/plain": [
       "<Figure size 432x288 with 1 Axes>"
      ]
     },
     "metadata": {
      "needs_background": "light"
     },
     "output_type": "display_data"
    }
   ],
   "source": [
    "# Normal distribution\n",
    "from numpy.random import default_rng\n",
    "rng = default_rng(seed = 1234)\n",
    "vals = rng.standard_normal(10)\n",
    "more_vals = rng.standard_normal(10)\n",
    "print(vals)\n",
    "print(more_vals)\n",
    "\n",
    "import pandas as pd\n",
    "df = pd.DataFrame({'vals': vals})\n",
    "frequencia = df.vals\n",
    "frequencia.plot(kind='bar')"
   ]
  },
  {
   "cell_type": "code",
   "execution_count": 8,
   "metadata": {},
   "outputs": [
    {
     "data": {
      "text/plain": [
       "<AxesSubplot:>"
      ]
     },
     "execution_count": 8,
     "metadata": {},
     "output_type": "execute_result"
    },
    {
     "data": {
      "image/png": "[encoded data removed]",
      "text/plain": [
       "<Figure size 432x288 with 1 Axes>"
      ]
     },
     "metadata": {
      "needs_background": "light"
     },
     "output_type": "display_data"
    }
   ],
   "source": [
    "# Uniform distribution\n",
    "from numpy.random import default_rng\n",
    "rng = default_rng(seed = 1234)\n",
    "vals = rng.uniform(0, 1, 500)\n",
    "\n",
    "import pandas as pd\n",
    "df = pd.DataFrame({'vals': vals})\n",
    "frequencia = df.vals\n",
    "frequencia.plot(kind='bar')\n"
   ]
  },
  {
   "cell_type": "code",
   "execution_count": 12,
   "metadata": {},
   "outputs": [
    {
     "data": {
      "text/plain": [
       "<AxesSubplot:>"
      ]
     },
     "execution_count": 12,
     "metadata": {},
     "output_type": "execute_result"
    },
    {
     "data": {
      "image/png": "[encoded data removed]",
      "text/plain": [
       "<Figure size 432x288 with 1 Axes>"
      ]
     },
     "metadata": {
      "needs_background": "light"
     },
     "output_type": "display_data"
    }
   ],
   "source": [
    "# Discrete distribution\n",
    "import random\n",
    "random.seed(1234)\n",
    "values = [1, 2, 3, 4, 5]\n",
    "weights = [0.1, 0.3, 0.1, 0.1, 0.3]\n",
    "\n",
    "results = random.choices(values, weights, k=200)\n",
    "\n",
    "import pandas as pd\n",
    "df = pd.DataFrame({'vals': results})\n",
    "frequencia = df.vals.value_counts()\n",
    "frequencia.plot(kind='bar')"
   ]
  }
 ],
 "metadata": {
  "kernelspec": {
   "display_name": "Python 3.9.5 64-bit",
   "language": "python",
   "name": "python3"
  },
  "language_info": {
   "codemirror_mode": {
    "name": "ipython",
    "version": 3
   },
   "file_extension": ".py",
   "mimetype": "text/x-python",
   "name": "python",
   "nbconvert_exporter": "python",
   "pygments_lexer": "ipython3",
   "version": "3.9.5"
  },
  "orig_nbformat": 4,
  "vscode": {
   "interpreter": {
    "hash": "abda343d31edc18ef9cd745fb9d8fec11ceb3b3de4df0354c424e97df0c635f1"
   }
  }
 },
 "nbformat": 4,
 "nbformat_minor": 2
}
