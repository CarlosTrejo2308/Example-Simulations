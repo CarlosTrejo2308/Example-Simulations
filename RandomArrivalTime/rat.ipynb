{
 "cells": [
  {
   "cell_type": "code",
   "execution_count": null,
   "metadata": {},
   "outputs": [],
   "source": []
  },
  {
   "cell_type": "markdown",
   "metadata": {},
   "source": [
    "# Generate Random Arrival Time\n",
    "Generar entre llegadas y computar la llegada de los clientes en nuestro sistema\n",
    "\n",
    "Actividades:\n",
    "- Entre llegadas\n",
    "- Tiempo de servicio\n",
    "\n",
    "Tiempo de llegada: Tiempo del reloj de simulacion repsentando la llegada de un cliente\n",
    "\n",
    "\n",
    "## Objetivo\n",
    "Generar entre llegadas y tiempo de llegada\n",
    "\n",
    "Monte Carlo?\n"
   ]
  },
  {
   "cell_type": "code",
   "execution_count": 1,
   "metadata": {},
   "outputs": [
    {
     "name": "stdout",
     "output_type": "stream",
     "text": [
      "4\n",
      "2\n",
      "1\n",
      "4\n",
      "4\n",
      "3\n",
      "3\n",
      "1\n",
      "4\n",
      "1\n"
     ]
    }
   ],
   "source": [
    "import random\n",
    "random.seed(1234)\n",
    "\n",
    "def discreteUniform(low = 1, high = 4):\n",
    "    return low + int( (high - low + 1) * random.random() )\n",
    "\n",
    "for i in range(10):\n",
    "    print(discreteUniform())"
   ]
  },
  {
   "cell_type": "code",
   "execution_count": 11,
   "metadata": {},
   "outputs": [
    {
     "name": "stdout",
     "output_type": "stream",
     "text": [
      "[1, 2, 2, 2, 4, 2, 4, 2, 4, 4, 2, 4, 4, 2, 1, 1, 2, 1, 3, 4, 2, 4, 3, 3, 2, 3, 4, 1, 4, 2]\n",
      "[0, 1, 3, 5, 7, 11, 13, 17, 19, 23, 27, 29, 33, 37, 39, 40, 41, 43, 44, 47, 51, 53, 57, 60, 63, 65, 68, 72, 73, 77, 79]\n"
     ]
    }
   ],
   "source": [
    "clock = 0\n",
    "num_callers = 30\n",
    "\n",
    "interArrivals = [discreteUniform() for _ in range(num_callers)]\n",
    "arrivalTimes = [clock]\n",
    "\n",
    "print(interArrivals)\n",
    "\n",
    "for i in range(num_callers):\n",
    "    arrivalTimes.append(arrivalTimes[i] + interArrivals[i])\n",
    "\n",
    "print(arrivalTimes)"
   ]
  },
  {
   "cell_type": "code",
   "execution_count": 6,
   "metadata": {},
   "outputs": [
    {
     "name": "stdout",
     "output_type": "stream",
     "text": [
      "10\n",
      "[2, 2, 1, 3, 1, 3, 1, 4, 4, 4]\n",
      "11\n",
      "[0, 2, 4, 5, 8, 9, 12, 13, 17, 21, 25]\n"
     ]
    }
   ],
   "source": [
    "print(len(interArrivals))\n",
    "print(interArrivals)\n",
    "print(len(arrivalTimes))\n",
    "print(arrivalTimes)"
   ]
  },
  {
   "cell_type": "code",
   "execution_count": 12,
   "metadata": {},
   "outputs": [
    {
     "name": "stdout",
     "output_type": "stream",
     "text": [
      "    Interarrival Time  arrivalTimes\n",
      "0                   0             0\n",
      "1                   1             1\n",
      "2                   2             3\n",
      "3                   2             5\n",
      "4                   2             7\n",
      "5                   4            11\n",
      "6                   2            13\n",
      "7                   4            17\n",
      "8                   2            19\n",
      "9                   4            23\n",
      "10                  4            27\n",
      "11                  2            29\n",
      "12                  4            33\n",
      "13                  4            37\n",
      "14                  2            39\n",
      "15                  1            40\n",
      "16                  1            41\n",
      "17                  2            43\n",
      "18                  1            44\n",
      "19                  3            47\n",
      "20                  4            51\n",
      "21                  2            53\n",
      "22                  4            57\n",
      "23                  3            60\n",
      "24                  3            63\n",
      "25                  2            65\n",
      "26                  3            68\n",
      "27                  4            72\n",
      "28                  1            73\n",
      "29                  4            77\n",
      "30                  2            79\n"
     ]
    }
   ],
   "source": [
    "import pandas as pd\n",
    "interArrivals.insert(0, 0)\n",
    "df = pd.DataFrame({\"Interarrival Time\": interArrivals, \"arrivalTimes\": arrivalTimes})\n",
    "print(df)"
   ]
  },
  {
   "cell_type": "code",
   "execution_count": 13,
   "metadata": {},
   "outputs": [
    {
     "data": {
      "text/plain": [
       "<AxesSubplot:>"
      ]
     },
     "execution_count": 13,
     "metadata": {},
     "output_type": "execute_result"
    },
    {
     "data": {
      "image/png": "[encoded data removed]",
      "text/plain": [
       "<Figure size 432x288 with 1 Axes>"
      ]
     },
     "metadata": {
      "needs_background": "light"
     },
     "output_type": "display_data"
    }
   ],
   "source": [
    "frequency = pd.Series(interArrivals).value_counts().sort_index()\n",
    "frequency.plot(kind='bar')"
   ]
  }
 ],
 "metadata": {
  "kernelspec": {
   "display_name": "Python 3.9.5 64-bit",
   "language": "python",
   "name": "python3"
  },
  "language_info": {
   "codemirror_mode": {
    "name": "ipython",
    "version": 3
   },
   "file_extension": ".py",
   "mimetype": "text/x-python",
   "name": "python",
   "nbconvert_exporter": "python",
   "pygments_lexer": "ipython3",
   "version": "3.9.5"
  },
  "orig_nbformat": 4,
  "vscode": {
   "interpreter": {
    "hash": "abda343d31edc18ef9cd745fb9d8fec11ceb3b3de4df0354c424e97df0c635f1"
   }
  }
 },
 "nbformat": 4,
 "nbformat_minor": 2
}
